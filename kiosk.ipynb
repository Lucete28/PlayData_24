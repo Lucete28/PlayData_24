total_price = 0
total_menu = {}
menu = {
    'drink' : {
        '아메리카노': 4500,
        '라떼': 5000,
        '밀크티': 5500
    },
    'food' : {
        '케이크' : 5000, '샌드위치' : 2500
    }
}

def choose_menu():
    basket_price = 0
    while True:
        print(menu)
        order = input("메뉴를 골라주세요: ")
        if order in menu['drink']:
            while True:
                hot_or_ice = input("HOT(따뜻한 음료) 또는 ICE(차가운 음료) 중에서 선택해주세요: ")
                print("ICE는 500원이 추가됩니다.")
                if hot_or_ice == 'HOT':
                    price = menu['drink'][order]
                    break
                elif hot_or_ice == 'ICE':
                    price = menu['drink'][order] + 500
                    break
                else:
                    print("잘못된 입력입니다. 다시 선택해주세요.")
        elif order in menu['food']:
            price = menu['food'][order]
            hot_or_ice = None  # 음식에는 HOT/ICE가 없으므로 None으로 초기화합니다.
        else:
            print("잘못된 입력입니다. 다시 선택해주세요.")
            continue
        print(f"주문하신 메뉴는 {order}이고 가격은 {price}원입니다.")
        count = int(input("얼마나 주문하시겠습니까?: "))
        ans = input(f"{order}를 {count}개 주문하시겠습니까? (Y/N)")
        if ans == 'Y' or ans == 'y':
            if hot_or_ice is not None:  # 음료인 경우에만 hot_or_ice를 저장합니다.
                total_menu[(order, hot_or_ice)] = total_menu.get((order, hot_or_ice), 0) + count
            else:
                total_menu[order] = total_menu.get(order, 0) + count
            basket_price += (price * count)
            print(f"{order}가 {count}개 장바구니에 추가되었습니다.")
            print(f"누적 금액은 {basket_price}원입니다.")
        ans2 = input("추가 주문 하시겠습니까? (Y/N): ")
        if ans2 == 'N' or ans2 == 'n':
            break
    return basket_price
total_price += choose_menu()

def select_menu():
    global total_price, total_menu
    
    print("현재 주문하신 메뉴는 다음과 같습니다:")
    for key, value in total_menu.items():
        if type(key) == tuple:
            print(f"{key[0]} ({key[1]}) : {value}개")
        else:
            print(f"{key} : {value}개")
    print(f"총 주문 금액은 {total_price}원입니다.")
    
    while True:
        #print(total_menu.keys())
        menu_to_delete = input("삭제하실 메뉴를 입력해주세요. 취소하시려면 0을 입력하세요: ")
        #메뉴 취소
        if menu_to_delete == '0':
            break
        #잘못된 값
        elif menu_to_delete not in total_menu.keys():
            print("잘못된 입력입니다. 다시 입력해주세요.")
            continue
        #올바른 값
        else:
            count_to_delete = int(input(f"{menu_to_delete}를 몇 개 삭제하시겠습니까?: "))
            #너무 많이 삭제
            if count_to_delete > total_menu[menu_to_delete]:
                print("삭제할 수 있는 개수보다 많습니다. 다시 입력해주세요.")
                continue
            #전부 삭제
            elif count_to_delete == total_menu[menu_to_delete]:
                total_menu.pop(menu_to_delete)
                #금액 제거
                if menu_to_delete in menu['drink']:
                    if menu_to_delete in menu['ice'].keys():
                        total_price -= (menu['drink'][menu_to_delete] + 500) * count_to_delete
                    else:
                        total_price -= menu['drink'][menu_to_delete] * count_to_delete
                elif menu_to_delete in menu['food']:
                    total_price -= menu['food'][menu_to_delete] * count_to_delete
            #일부분 삭제
            else:
                if isinstance(menu_to_delete, tuple):
                    total_menu[menu_to_delete] -= count_to_delete
                else:
                    total_menu[menu_to_delete] -= count_to_delete

                if menu_to_delete in menu['drink']:
                    if menu_to_delete in menu['ice'].keys():
                        total_price -= (menu['drink'][menu_to_delete] + 500) * count_to_delete
                    else:
                        total_price -= menu['drink'][menu_to_delete] * count_to_delete
                elif menu_to_delete in menu['food']:
                    total_price -= menu['food'][menu_to_delete] * count_to_delete
            print(f"{menu_to_delete} {count_to_delete}개를 장바구니에서 삭제하였습니다.")
            print(f"총 주문 금액은 {total_price}원입니다.")
select_menu()
print(f"최종 주문하신 메뉴는 {total_menu}입니다.")
print(f"총 주문 금액은 {total_price}원입니다.")
