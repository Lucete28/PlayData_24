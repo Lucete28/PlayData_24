{
 "cells": [
  {
   "cell_type": "code",
   "execution_count": 150,
   "metadata": {},
   "outputs": [],
   "source": [
    "#메뉴가 튜플인지? 그리고 그게 아이스 인지            \n",
    "#if isinstance(menu_to_delete, tuple) and menu_to_delete[1] == 'ICE':\n"
   ]
  },
  {
   "attachments": {},
   "cell_type": "markdown",
   "metadata": {},
   "source": [
    "## 3일차 수정 화이팅!"
   ]
  },
  {
   "cell_type": "code",
   "execution_count": 151,
   "metadata": {},
   "outputs": [],
   "source": [
    "#'메뉴': [0가격, 1타입(drink/food), 2온도, 3사이즈, 4갯수, 5메뉴 주문 번호]\n",
    "total_price = 0\n",
    "total_menu = {}\n",
    "basket = {}\n",
    "menu_num = 0\n",
    "menu = {\n",
    "    # 음료 메뉴\n",
    "    '아메리카노': [3000, 'drink', 'hot/ice', '중/대/특대', 0,0],\n",
    "    '라떼': [4000, 'drink', 'hot/ice', '중/대/특대', 0,0],\n",
    "    '밀크티': [4500, 'drink', 'hot/ice', '중/대/특대', 0,0],\n",
    "\n",
    "    # 음식 메뉴\n",
    "    '케이크' : [5000, 'food', '', '', 0,0],\n",
    "    '샌드위치' : [4000, 'food', '', '', 0,0]\n",
    "    }\n",
    "\n",
    "\n",
    "def add_cart_menu():\n",
    "    global total_price, total_menu, basket, menu_num\n",
    "    ans = input(\"메뉴를 골라주세요 : \")\n",
    "    if ans not in menu:\n",
    "        print(f\"{ans}은(는) 메뉴에 없습니다.\")\n",
    "        ans2 = input(\"종료하시겠습니까? : (Y/N)\")\n",
    "        if ans2 == 'Y' or ans2 == 'y':\n",
    "            return\n",
    "        else:\n",
    "            add_cart_menu()\n",
    "    \n",
    "    #고른게 음료메뉴인 경우\n",
    "    elif menu[ans][1] == 'drink':\n",
    "        basket[ans] = menu[ans]\n",
    "        menu_num +=1\n",
    "        #음료 설정하는 함수\n",
    "        set_drink(ans)\n",
    "    \n",
    "    #고른게 음식메뉴인 경우\n",
    "    elif menu[ans][1] == 'food':\n",
    "        basket[ans] = menu[ans]\n",
    "        menu_num +=1\n",
    "        #음식 설정하는 함수\n",
    "        set_food(ans)\n",
    "\n",
    "    else:\n",
    "        print(\"뭔가 잘못되었습니다.\")\n",
    "        return\n",
    "    \n",
    "\n",
    "    #추가 주문\n",
    "    print(\"현재까지 주문한 메뉴입니다.\\n\",total_menu)\n",
    "    add_more = input(\"더 주문 하시겠습니까? : (Y/N)\")\n",
    "    if add_more == 'Y'or add_more == 'y':\n",
    "        add_cart_menu()\n",
    "    \n",
    "    #메뉴 수정\n",
    "    ans3 = input(\"메뉴를 수정하시겠습니까? : (Y/N)\")\n",
    "    if ans3 == 'Y'or ans3 == 'y':\n",
    "        change_menu()\n",
    "\n",
    "    #계산\n",
    "    get_price()\n",
    "\n"
   ]
  },
  {
   "attachments": {},
   "cell_type": "markdown",
   "metadata": {},
   "source": [
    "#### 음료메뉴 설정함수"
   ]
  },
  {
   "cell_type": "code",
   "execution_count": 152,
   "metadata": {},
   "outputs": [],
   "source": [
    "#'메뉴': [0가격, 1타입(drink/food), 2온도, 3사이즈, 4갯수]\n",
    "def set_drink(ans):\n",
    "    global total_price, total_menu, basket, menu_num\n",
    "    #온도 설정\n",
    "    print(\"ice는 500원이 추가됩니다.\")\n",
    "    temp = input(\"온도를 선택해주세요 : (HOT/ICE)\")\n",
    "    if temp == 'HOT' or temp == 'hot' or temp == 'h':\n",
    "        basket[ans][2] = 'HOT'\n",
    "    elif temp == 'ICE' or temp == 'ice' or temp == 'i':\n",
    "        basket[ans][2] = 'ICE'\n",
    "        basket[ans][0] += 500\n",
    "    else:\n",
    "        print(\"잘못된 입력입니다.\")\n",
    "        ans2 = input(\"종료하시겠습니까? : (Y/N)\")\n",
    "        if ans2 == 'Y'or ans2 == 'y':\n",
    "            return\n",
    "        else:\n",
    "            set_drink(ans)\n",
    "                \n",
    "    #사이즈 설정\n",
    "    print(\"대 사이즈는 500원\\n특대 사이즈는 1000원이 추가됩니다\")\n",
    "    size = input(\"크기를 선택해주세요 : (중/대/특대)\")\n",
    "    if size == '중':\n",
    "        basket[ans][3] = '중'\n",
    "    elif size == '대':\n",
    "        basket[ans][3] = '대'\n",
    "        basket[ans][0] += 500\n",
    "    elif size == '특대':\n",
    "        basket[ans][3] = '특대'   \n",
    "        basket[ans][0] += 1000\n",
    "\n",
    "    else:\n",
    "        print(\"잘못된 입력입니다.\")\n",
    "        ans2 = input(\"종료하시겠습니까? : (Y/N)\")\n",
    "        if ans2 == 'Y'or ans2 == 'y':\n",
    "            return\n",
    "        else:\n",
    "            set_drink(ans)\n",
    "\n",
    "    #갯수 설정\n",
    "    count = int(input(\"몇잔 주문하시겠습니까? :\"))\n",
    "    basket[ans][4] -= count\n",
    "    #메뉴번호 설정\n",
    "    basket[ans][5] = menu_num\n",
    "    total_menu[ans] = basket[ans]\n",
    "\n",
    "######## 같은메뉴 여러번 주문시 오류발생\n",
    "    # if basket[ans] not in total_menu: #새로운 메뉴\n",
    "    #     total_menu[1][ans] = basket[ans]\n",
    "    # elif total_menu[ans] in total_menu:\n",
    "    #     #새로 주문한 메뉴의 온도, size까지 확인하여 구분\n",
    "    #     try:\n",
    "    #         for i in total_menu[ans][:3]:\n",
    "    #             if i in basket[ans]:\n",
    "    #                 pass\n",
    "    #             else: #같은 메뉴 다른 주문\n",
    "    #                 total_menu[ans] = basket[ans]\n",
    "    #     #같은메뉴 같은 주문\n",
    "    #     except:\n",
    "    \n",
    "            \n",
    "    "
   ]
  },
  {
   "attachments": {},
   "cell_type": "markdown",
   "metadata": {},
   "source": [
    "#### 음식설정하는 함수"
   ]
  },
  {
   "cell_type": "code",
   "execution_count": 153,
   "metadata": {},
   "outputs": [],
   "source": [
    "#'메뉴': [0가격, 1타입(drink/food), 2온도, 3사이즈, 4-갯수, 5메뉴번호]\n",
    "def set_food(ans):\n",
    "    \n",
    "    #갯수 설정\n",
    "    count = int(input(f\"{ans}를 몇개 주문하시겠습니까? : \"))\n",
    "    basket[ans][4] -= count\n",
    "    #메뉴번호 등록\n",
    "    \n",
    "    print(menu_num)\n",
    "    basket[ans][5] = menu_num\n",
    "    total_menu[ans] = basket[ans]\n"
   ]
  },
  {
   "attachments": {},
   "cell_type": "markdown",
   "metadata": {},
   "source": [
    "#### 메뉴 수정하는 함수"
   ]
  },
  {
   "cell_type": "code",
   "execution_count": 154,
   "metadata": {},
   "outputs": [],
   "source": [
    "def change_menu():\n",
    "    #제거할 거 특정\n",
    "    delete_menu_num = int(input(\"몇번째 메뉴를 제거하시겠습니까? : \"))\n",
    "\n",
    "    # for key in total_menu:\n",
    "    #     value_list = total_menu[key]\n",
    "    #     second_value = value_list[1]\n",
    "    #     print(f\"The second value of {key} is {second_value}\")\n",
    "\n",
    "    #잘못된 번호\n",
    "    if delete_menu_num > menu_num:\n",
    "        print(\"다시 선택해주세요\")\n",
    "        change_menu\n",
    "    #올바른 번호\n",
    "    else:\n",
    "        del_menu =[]\n",
    "        for key, value in total_menu.items():\n",
    "            if delete_menu_num in value:\n",
    "                del_menu += key\n",
    "        del_menu = ''.join(del_menu)\n",
    "        print(del_menu)\n",
    "        del total_menu[del_menu]\n",
    "        print(f\"현재 남은 메뉴 : {total_menu}\")\n",
    "        #[k for k, v in total_menu.items() if v == delete_menu_num]\n"
   ]
  },
  {
   "attachments": {},
   "cell_type": "markdown",
   "metadata": {},
   "source": [
    "## 가격 계산"
   ]
  },
  {
   "cell_type": "code",
   "execution_count": 155,
   "metadata": {},
   "outputs": [],
   "source": [
    "def get_price():\n",
    "    price = 0\n",
    "    for value in total_menu.values():\n",
    "        price += -1*(value[0] * value[4])\n",
    "    print(f\"총 금액은{price}입니다.\")"
   ]
  },
  {
   "attachments": {},
   "cell_type": "markdown",
   "metadata": {},
   "source": [
    "## 실행 "
   ]
  },
  {
   "cell_type": "code",
   "execution_count": 156,
   "metadata": {},
   "outputs": [
    {
     "name": "stdout",
     "output_type": "stream",
     "text": [
      "아메리카노, 3000\n",
      "라떼, 4000\n",
      "밀크티, 4500\n",
      "케이크, 5000\n",
      "샌드위치, 4000\n",
      "ice는 500원이 추가됩니다.\n",
      "대 사이즈는 500원\n",
      "특대 사이즈는 1000원이 추가됩니다\n",
      "현재까지 주문한 메뉴입니다.\n",
      " {'라떼': [4500, 'drink', 'HOT', '대', -1, 1]}\n",
      "총 금액은4500입니다.\n"
     ]
    }
   ],
   "source": [
    "for key, value in menu.items():\n",
    "    print(key + ', ' + str(value[0]))\n",
    "\n",
    "add_cart_menu()"
   ]
  },
  {
   "cell_type": "code",
   "execution_count": null,
   "metadata": {},
   "outputs": [],
   "source": []
  }
 ],
 "metadata": {
  "kernelspec": {
   "display_name": "Python 3",
   "language": "python",
   "name": "python3"
  },
  "language_info": {
   "codemirror_mode": {
    "name": "ipython",
    "version": 3
   },
   "file_extension": ".py",
   "mimetype": "text/x-python",
   "name": "python",
   "nbconvert_exporter": "python",
   "pygments_lexer": "ipython3",
   "version": "3.8.8rc1"
  },
  "orig_nbformat": 4
 },
 "nbformat": 4,
 "nbformat_minor": 2
}
